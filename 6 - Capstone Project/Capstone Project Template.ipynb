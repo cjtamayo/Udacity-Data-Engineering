{
 "cells": [
  {
   "cell_type": "markdown",
   "metadata": {
    "editable": true
   },
   "source": [
    "## Data Engineering Capstone Project\n",
    "\n",
    "#### Project Summary\n",
    "Being a resident of New York City, I decided to look up some datasets put out for it. In doing so, I found an evictions dataset. In combining the neighbohood data with this dataset, I can calculate the number evictions based on neighborhood. This will actually be the combining of data from three seperate datasets.\n",
    "\n",
    "The project follows the follow steps:\n",
    "* Step 1: Scope the Project and Gather Data\n",
    "* Step 2: Explore and Assess the Data\n",
    "* Step 3: Define the Data Model\n",
    "* Step 4: Run ETL to Model the Data\n",
    "* Step 5: Complete Project Write Up"
   ]
  },
  {
   "cell_type": "code",
   "execution_count": null,
   "metadata": {
    "editable": true
   },
   "outputs": [],
   "source": [
    "! pip install sodapy"
   ]
  },
  {
   "cell_type": "code",
   "execution_count": 31,
   "metadata": {
    "editable": true
   },
   "outputs": [],
   "source": [
    "# Do all imports and installs here\n",
    "import pandas as pd\n",
    "from sodapy import Socrata\n",
    "import requests\n",
    "import random\n",
    "from IPython.display import Image\n",
    "from pyspark.sql import SparkSession\n",
    "from pyspark.sql.types import *\n",
    "import pyspark.sql.functions as F"
   ]
  },
  {
   "cell_type": "markdown",
   "metadata": {
    "editable": true
   },
   "source": [
    "### Step 1: Scope the Project and Gather Data\n",
    "\n",
    "#### Scope \n",
    "Using a combination of Python, Spark, Pandas, and Requests, I will grab datasets by ingesting CSV, Excel, and JSON files locally and via API calls. From there I will clean the data and remove columns that will not be useful in aggregating evictions by geographic dimansions.\n",
    "#### Describe and Gather Data \n",
    "The datasets came from a variety of places. This includes NYC's Open Data site, where the city holds a lot of its collected data from a variety of sources. I also found some mapping data from UDS mapper to help mapping postal zip codes to census created zcta numbers."
   ]
  },
  {
   "cell_type": "code",
   "execution_count": 2,
   "metadata": {
    "editable": true
   },
   "outputs": [],
   "source": [
    "# Creating the spark session/context\n",
    "spark = SparkSession \\\n",
    "        .builder \\\n",
    "        .config(\"spark.jars.packages\", \"org.apache.hadoop:hadoop-aws:2.7.0\") \\\n",
    "        .getOrCreate()\n",
    "\n",
    "sc = spark.sparkContext"
   ]
  },
  {
   "cell_type": "markdown",
   "metadata": {
    "editable": true
   },
   "source": [
    "### NYC Eviction Dataset\n",
    "Using NYC's open data website, I found a dataset of evictions the city has collected. The dataset can be found [HERE](https://data.cityofnewyork.us/City-Government/Evictions/6z8x-wfk4). Using the API, I grabbed the data. A sample can be found below."
   ]
  },
  {
   "cell_type": "code",
   "execution_count": 3,
   "metadata": {
    "editable": true
   },
   "outputs": [
    {
     "name": "stderr",
     "output_type": "stream",
     "text": [
      "WARNING:root:Requests made without an app_token will be subject to strict throttling limits.\n"
     ]
    },
    {
     "data": {
      "text/html": [
       "<div>\n",
       "<style scoped>\n",
       "    .dataframe tbody tr th:only-of-type {\n",
       "        vertical-align: middle;\n",
       "    }\n",
       "\n",
       "    .dataframe tbody tr th {\n",
       "        vertical-align: top;\n",
       "    }\n",
       "\n",
       "    .dataframe thead th {\n",
       "        text-align: right;\n",
       "    }\n",
       "</style>\n",
       "<table border=\"1\" class=\"dataframe\">\n",
       "  <thead>\n",
       "    <tr style=\"text-align: right;\">\n",
       "      <th></th>\n",
       "      <th>court_index_number</th>\n",
       "      <th>docket_number</th>\n",
       "      <th>eviction_address</th>\n",
       "      <th>eviction_apt_num</th>\n",
       "      <th>executed_date</th>\n",
       "      <th>marshal_first_name</th>\n",
       "      <th>marshal_last_name</th>\n",
       "      <th>residential_commercial_ind</th>\n",
       "      <th>borough</th>\n",
       "      <th>eviction_zip</th>\n",
       "    </tr>\n",
       "  </thead>\n",
       "  <tbody>\n",
       "    <tr>\n",
       "      <th>0</th>\n",
       "      <td>R 50729/18</td>\n",
       "      <td>070266</td>\n",
       "      <td>21 SHERADEN AVE. A/K/A 17-25 SHERADEN</td>\n",
       "      <td>5A</td>\n",
       "      <td>2018-06-01</td>\n",
       "      <td>Steven</td>\n",
       "      <td>Powell</td>\n",
       "      <td>Residential</td>\n",
       "      <td>STATEN ISLAND</td>\n",
       "      <td>10314</td>\n",
       "    </tr>\n",
       "    <tr>\n",
       "      <th>1</th>\n",
       "      <td>63907/17</td>\n",
       "      <td>6167</td>\n",
       "      <td>403 HOWARD AVENUE - APT. #307</td>\n",
       "      <td>307</td>\n",
       "      <td>2017-10-20</td>\n",
       "      <td>Robert</td>\n",
       "      <td>Renzulli</td>\n",
       "      <td>Residential</td>\n",
       "      <td>BROOKLYN</td>\n",
       "      <td>11233</td>\n",
       "    </tr>\n",
       "    <tr>\n",
       "      <th>2</th>\n",
       "      <td>B56588/18B</td>\n",
       "      <td>093376</td>\n",
       "      <td>1200 COLLEGE AVENUE</td>\n",
       "      <td>3M</td>\n",
       "      <td>2019-07-18</td>\n",
       "      <td>Ileana</td>\n",
       "      <td>Rivera</td>\n",
       "      <td>Residential</td>\n",
       "      <td>BRONX</td>\n",
       "      <td>10456</td>\n",
       "    </tr>\n",
       "    <tr>\n",
       "      <th>3</th>\n",
       "      <td>51795/17</td>\n",
       "      <td>291978</td>\n",
       "      <td>48-25 46TH STREET</td>\n",
       "      <td>5E</td>\n",
       "      <td>2017-04-12</td>\n",
       "      <td>George</td>\n",
       "      <td>Essock</td>\n",
       "      <td>Residential</td>\n",
       "      <td>QUEENS</td>\n",
       "      <td>11377</td>\n",
       "    </tr>\n",
       "    <tr>\n",
       "      <th>4</th>\n",
       "      <td>K70703/18</td>\n",
       "      <td>090175</td>\n",
       "      <td>611 GATES AVENUE</td>\n",
       "      <td>1A</td>\n",
       "      <td>2018-11-08</td>\n",
       "      <td>Ileana</td>\n",
       "      <td>Rivera</td>\n",
       "      <td>Residential</td>\n",
       "      <td>BROOKLYN</td>\n",
       "      <td>11221</td>\n",
       "    </tr>\n",
       "    <tr>\n",
       "      <th>5</th>\n",
       "      <td>92653/16</td>\n",
       "      <td>073400</td>\n",
       "      <td>2440 EAST 29TH ST</td>\n",
       "      <td>4D</td>\n",
       "      <td>2018-02-02</td>\n",
       "      <td>Justin</td>\n",
       "      <td>Grossman</td>\n",
       "      <td>Residential</td>\n",
       "      <td>BROOKLYN</td>\n",
       "      <td>11235</td>\n",
       "    </tr>\n",
       "    <tr>\n",
       "      <th>6</th>\n",
       "      <td>58306/17</td>\n",
       "      <td>062353</td>\n",
       "      <td>565 EAST 80TH STREET</td>\n",
       "      <td>3RD FLOOR</td>\n",
       "      <td>2017-10-16</td>\n",
       "      <td>Justin</td>\n",
       "      <td>Grossman</td>\n",
       "      <td>Residential</td>\n",
       "      <td>BROOKLYN</td>\n",
       "      <td>11236</td>\n",
       "    </tr>\n",
       "    <tr>\n",
       "      <th>7</th>\n",
       "      <td>B61702/18</td>\n",
       "      <td>093896</td>\n",
       "      <td>2033 VALENTINE AVE</td>\n",
       "      <td>52A</td>\n",
       "      <td>2019-03-12</td>\n",
       "      <td>Ileana</td>\n",
       "      <td>Rivera</td>\n",
       "      <td>Residential</td>\n",
       "      <td>BRONX</td>\n",
       "      <td>10457</td>\n",
       "    </tr>\n",
       "    <tr>\n",
       "      <th>8</th>\n",
       "      <td>87810/17</td>\n",
       "      <td>14275</td>\n",
       "      <td>65 MACON STREET</td>\n",
       "      <td>2F</td>\n",
       "      <td>2018-01-09</td>\n",
       "      <td>Edward</td>\n",
       "      <td>Guida</td>\n",
       "      <td>Residential</td>\n",
       "      <td>BROOKLYN</td>\n",
       "      <td>11216</td>\n",
       "    </tr>\n",
       "    <tr>\n",
       "      <th>9</th>\n",
       "      <td>K51450/17</td>\n",
       "      <td>077730</td>\n",
       "      <td>626 EAST 16TH STREET</td>\n",
       "      <td>1</td>\n",
       "      <td>2017-09-12</td>\n",
       "      <td>Ileana</td>\n",
       "      <td>Rivera</td>\n",
       "      <td>Residential</td>\n",
       "      <td>BROOKLYN</td>\n",
       "      <td>11226</td>\n",
       "    </tr>\n",
       "  </tbody>\n",
       "</table>\n",
       "</div>"
      ],
      "text/plain": [
       "  court_index_number docket_number                       eviction_address  \\\n",
       "0         R 50729/18        070266  21 SHERADEN AVE. A/K/A 17-25 SHERADEN   \n",
       "1           63907/17          6167          403 HOWARD AVENUE - APT. #307   \n",
       "2         B56588/18B        093376                    1200 COLLEGE AVENUE   \n",
       "3           51795/17        291978                      48-25 46TH STREET   \n",
       "4          K70703/18        090175                       611 GATES AVENUE   \n",
       "5           92653/16        073400                      2440 EAST 29TH ST   \n",
       "6           58306/17        062353                   565 EAST 80TH STREET   \n",
       "7          B61702/18        093896                     2033 VALENTINE AVE   \n",
       "8           87810/17         14275                        65 MACON STREET   \n",
       "9          K51450/17        077730                   626 EAST 16TH STREET   \n",
       "\n",
       "  eviction_apt_num executed_date marshal_first_name marshal_last_name  \\\n",
       "0               5A    2018-06-01             Steven            Powell   \n",
       "1              307    2017-10-20             Robert          Renzulli   \n",
       "2               3M    2019-07-18             Ileana            Rivera   \n",
       "3               5E    2017-04-12             George            Essock   \n",
       "4               1A    2018-11-08             Ileana            Rivera   \n",
       "5               4D    2018-02-02             Justin          Grossman   \n",
       "6        3RD FLOOR    2017-10-16             Justin          Grossman   \n",
       "7              52A    2019-03-12             Ileana            Rivera   \n",
       "8               2F    2018-01-09             Edward             Guida   \n",
       "9                1    2017-09-12             Ileana            Rivera   \n",
       "\n",
       "  residential_commercial_ind        borough eviction_zip  \n",
       "0                Residential  STATEN ISLAND        10314  \n",
       "1                Residential       BROOKLYN        11233  \n",
       "2                Residential          BRONX        10456  \n",
       "3                Residential         QUEENS        11377  \n",
       "4                Residential       BROOKLYN        11221  \n",
       "5                Residential       BROOKLYN        11235  \n",
       "6                Residential       BROOKLYN        11236  \n",
       "7                Residential          BRONX        10457  \n",
       "8                Residential       BROOKLYN        11216  \n",
       "9                Residential       BROOKLYN        11226  "
      ]
     },
     "execution_count": 3,
     "metadata": {},
     "output_type": "execute_result"
    }
   ],
   "source": [
    "# Grabbing evicion data and converting to pandas to preview\n",
    "client = Socrata(\"data.cityofnewyork.us\", None)\n",
    "results = client.get_all(\"6z8x-wfk4\")\n",
    "evict_json = sc.parallelize(results)\n",
    "evict_schema = StructType([\n",
    "        StructField('court_index_number', StringType()),\n",
    "        StructField('docket_number', StringType()),\n",
    "        StructField('eviction_address', StringType()),\n",
    "        StructField('eviction_apt_num', StringType()),\n",
    "        StructField('executed_date', DateType()),\n",
    "        StructField('marshal_first_name', StringType()),\n",
    "        StructField('marshal_last_name', StringType()),\n",
    "        StructField('residential_commercial_ind', StringType()),\n",
    "        StructField('borough', StringType()),\n",
    "        StructField('eviction_zip', StringType())\n",
    "        ])\n",
    "df_evict = spark.read.schema(evict_schema).json(evict_json)\n",
    "df_evict.limit(10).toPandas()"
   ]
  },
  {
   "cell_type": "markdown",
   "metadata": {
    "editable": true
   },
   "source": [
    "### Covid data\n",
    "I was initially going to try to use covid data from the city, however decided not to since it is more of an aggregate table rather than single events. However, it is still useful in naming NYC neighborhoods via ZCTA5. The dataset can be found [HERE](https://github.com/nychealth/coronavirus-data/blob/master/data-by-modzcta.csv)."
   ]
  },
  {
   "cell_type": "code",
   "execution_count": 4,
   "metadata": {
    "editable": true
   },
   "outputs": [
    {
     "data": {
      "text/html": [
       "<div>\n",
       "<style scoped>\n",
       "    .dataframe tbody tr th:only-of-type {\n",
       "        vertical-align: middle;\n",
       "    }\n",
       "\n",
       "    .dataframe tbody tr th {\n",
       "        vertical-align: top;\n",
       "    }\n",
       "\n",
       "    .dataframe thead th {\n",
       "        text-align: right;\n",
       "    }\n",
       "</style>\n",
       "<table border=\"1\" class=\"dataframe\">\n",
       "  <thead>\n",
       "    <tr style=\"text-align: right;\">\n",
       "      <th></th>\n",
       "      <th>modified_zcta</th>\n",
       "      <th>neighborhood_name</th>\n",
       "      <th>borough_group</th>\n",
       "      <th>covid_case_count</th>\n",
       "      <th>covid_case_rate</th>\n",
       "      <th>pop_denominator</th>\n",
       "      <th>covid_death_count</th>\n",
       "      <th>covid_death_rate</th>\n",
       "      <th>percent_positive</th>\n",
       "      <th>total_covid_tests</th>\n",
       "    </tr>\n",
       "  </thead>\n",
       "  <tbody>\n",
       "    <tr>\n",
       "      <th>0</th>\n",
       "      <td>None</td>\n",
       "      <td>None</td>\n",
       "      <td>None</td>\n",
       "      <td>NaN</td>\n",
       "      <td>NaN</td>\n",
       "      <td>NaN</td>\n",
       "      <td>NaN</td>\n",
       "      <td>NaN</td>\n",
       "      <td>NaN</td>\n",
       "      <td>NaN</td>\n",
       "    </tr>\n",
       "    <tr>\n",
       "      <th>1</th>\n",
       "      <td>10001</td>\n",
       "      <td>Chelsea/NoMad/West Chelsea</td>\n",
       "      <td>Manhattan</td>\n",
       "      <td>404.0</td>\n",
       "      <td>1714.55</td>\n",
       "      <td>23563.03</td>\n",
       "      <td>24.0</td>\n",
       "      <td>101.85</td>\n",
       "      <td>8.72</td>\n",
       "      <td>4635.0</td>\n",
       "    </tr>\n",
       "    <tr>\n",
       "      <th>2</th>\n",
       "      <td>10002</td>\n",
       "      <td>Chinatown/Lower East Side</td>\n",
       "      <td>Manhattan</td>\n",
       "      <td>1158.0</td>\n",
       "      <td>1508.69</td>\n",
       "      <td>76755.41</td>\n",
       "      <td>158.0</td>\n",
       "      <td>205.85</td>\n",
       "      <td>12.17</td>\n",
       "      <td>9514.0</td>\n",
       "    </tr>\n",
       "    <tr>\n",
       "      <th>3</th>\n",
       "      <td>10003</td>\n",
       "      <td>East Village/Gramercy/Greenwich Village</td>\n",
       "      <td>Manhattan</td>\n",
       "      <td>492.0</td>\n",
       "      <td>914.47</td>\n",
       "      <td>53801.62</td>\n",
       "      <td>34.0</td>\n",
       "      <td>63.20</td>\n",
       "      <td>6.63</td>\n",
       "      <td>7420.0</td>\n",
       "    </tr>\n",
       "    <tr>\n",
       "      <th>4</th>\n",
       "      <td>10004</td>\n",
       "      <td>Financial District</td>\n",
       "      <td>Manhattan</td>\n",
       "      <td>35.0</td>\n",
       "      <td>958.74</td>\n",
       "      <td>3650.61</td>\n",
       "      <td>1.0</td>\n",
       "      <td>27.39</td>\n",
       "      <td>6.93</td>\n",
       "      <td>505.0</td>\n",
       "    </tr>\n",
       "    <tr>\n",
       "      <th>5</th>\n",
       "      <td>10005</td>\n",
       "      <td>Financial District</td>\n",
       "      <td>Manhattan</td>\n",
       "      <td>72.0</td>\n",
       "      <td>857.54</td>\n",
       "      <td>8396.11</td>\n",
       "      <td>2.0</td>\n",
       "      <td>23.82</td>\n",
       "      <td>6.39</td>\n",
       "      <td>1126.0</td>\n",
       "    </tr>\n",
       "    <tr>\n",
       "      <th>6</th>\n",
       "      <td>10006</td>\n",
       "      <td>Financial District</td>\n",
       "      <td>Manhattan</td>\n",
       "      <td>32.0</td>\n",
       "      <td>925.45</td>\n",
       "      <td>3457.77</td>\n",
       "      <td>0.0</td>\n",
       "      <td>0.00</td>\n",
       "      <td>6.17</td>\n",
       "      <td>519.0</td>\n",
       "    </tr>\n",
       "    <tr>\n",
       "      <th>7</th>\n",
       "      <td>10007</td>\n",
       "      <td>TriBeCa</td>\n",
       "      <td>Manhattan</td>\n",
       "      <td>66.0</td>\n",
       "      <td>800.03</td>\n",
       "      <td>8249.73</td>\n",
       "      <td>3.0</td>\n",
       "      <td>36.36</td>\n",
       "      <td>5.36</td>\n",
       "      <td>1231.0</td>\n",
       "    </tr>\n",
       "    <tr>\n",
       "      <th>8</th>\n",
       "      <td>10009</td>\n",
       "      <td>Alphabet City/East Village/Stuyvesant Town-Coo...</td>\n",
       "      <td>Manhattan</td>\n",
       "      <td>753.0</td>\n",
       "      <td>1281.75</td>\n",
       "      <td>58747.99</td>\n",
       "      <td>69.0</td>\n",
       "      <td>117.45</td>\n",
       "      <td>8.79</td>\n",
       "      <td>8563.0</td>\n",
       "    </tr>\n",
       "    <tr>\n",
       "      <th>9</th>\n",
       "      <td>10010</td>\n",
       "      <td>Flatiron/Gramercy/Kips Bay</td>\n",
       "      <td>Manhattan</td>\n",
       "      <td>289.0</td>\n",
       "      <td>892.75</td>\n",
       "      <td>32371.86</td>\n",
       "      <td>19.0</td>\n",
       "      <td>58.69</td>\n",
       "      <td>5.72</td>\n",
       "      <td>5052.0</td>\n",
       "    </tr>\n",
       "  </tbody>\n",
       "</table>\n",
       "</div>"
      ],
      "text/plain": [
       "  modified_zcta                                  neighborhood_name  \\\n",
       "0          None                                               None   \n",
       "1         10001                         Chelsea/NoMad/West Chelsea   \n",
       "2         10002                          Chinatown/Lower East Side   \n",
       "3         10003            East Village/Gramercy/Greenwich Village   \n",
       "4         10004                                 Financial District   \n",
       "5         10005                                 Financial District   \n",
       "6         10006                                 Financial District   \n",
       "7         10007                                            TriBeCa   \n",
       "8         10009  Alphabet City/East Village/Stuyvesant Town-Coo...   \n",
       "9         10010                         Flatiron/Gramercy/Kips Bay   \n",
       "\n",
       "  borough_group  covid_case_count  covid_case_rate  pop_denominator  \\\n",
       "0          None               NaN              NaN              NaN   \n",
       "1     Manhattan             404.0          1714.55         23563.03   \n",
       "2     Manhattan            1158.0          1508.69         76755.41   \n",
       "3     Manhattan             492.0           914.47         53801.62   \n",
       "4     Manhattan              35.0           958.74          3650.61   \n",
       "5     Manhattan              72.0           857.54          8396.11   \n",
       "6     Manhattan              32.0           925.45          3457.77   \n",
       "7     Manhattan              66.0           800.03          8249.73   \n",
       "8     Manhattan             753.0          1281.75         58747.99   \n",
       "9     Manhattan             289.0           892.75         32371.86   \n",
       "\n",
       "   covid_death_count  covid_death_rate  percent_positive  total_covid_tests  \n",
       "0                NaN               NaN               NaN                NaN  \n",
       "1               24.0            101.85              8.72             4635.0  \n",
       "2              158.0            205.85             12.17             9514.0  \n",
       "3               34.0             63.20              6.63             7420.0  \n",
       "4                1.0             27.39              6.93              505.0  \n",
       "5                2.0             23.82              6.39             1126.0  \n",
       "6                0.0              0.00              6.17              519.0  \n",
       "7                3.0             36.36              5.36             1231.0  \n",
       "8               69.0            117.45              8.79             8563.0  \n",
       "9               19.0             58.69              5.72             5052.0  "
      ]
     },
     "execution_count": 4,
     "metadata": {},
     "output_type": "execute_result"
    }
   ],
   "source": [
    "# Getting the covid data\n",
    "covid_schema = StructType([\n",
    "        StructField('modified_zcta', StringType()),\n",
    "        StructField('neighborhood_name', StringType()),\n",
    "        StructField('borough_group', StringType()),\n",
    "        StructField('covid_case_count', IntegerType()),\n",
    "        StructField('covid_case_rate', DoubleType()),\n",
    "        StructField('pop_denominator', DoubleType()),\n",
    "        StructField('covid_death_count', IntegerType()),\n",
    "        StructField('covid_death_rate', DoubleType()),\n",
    "        StructField('percent_positive', DoubleType()),\n",
    "        StructField('total_covid_tests', IntegerType())\n",
    "        ])\n",
    "df_covid = spark.read.schema(covid_schema).csv('data-by-modzcta.csv')\n",
    "df_covid.limit(10).toPandas()"
   ]
  },
  {
   "cell_type": "markdown",
   "metadata": {
    "editable": true
   },
   "source": [
    "### Zip to ZCTA5 data\n",
    "Zip codes are primarily a device used by the postal office for delivering mail. Because of this, zip codes are not necessarily geographical areas seperated from one another. US Census data created ZCTAs for the latter situation. Though they did not release a map for zip code to ZCTA, UDS Mapper has created one. The dataset can be found [HERE](https://www.udsmapper.org/zcta-crosswalk.cfm)."
   ]
  },
  {
   "cell_type": "code",
   "execution_count": 5,
   "metadata": {
    "editable": true
   },
   "outputs": [
    {
     "data": {
      "text/html": [
       "<div>\n",
       "<style scoped>\n",
       "    .dataframe tbody tr th:only-of-type {\n",
       "        vertical-align: middle;\n",
       "    }\n",
       "\n",
       "    .dataframe tbody tr th {\n",
       "        vertical-align: top;\n",
       "    }\n",
       "\n",
       "    .dataframe thead th {\n",
       "        text-align: right;\n",
       "    }\n",
       "</style>\n",
       "<table border=\"1\" class=\"dataframe\">\n",
       "  <thead>\n",
       "    <tr style=\"text-align: right;\">\n",
       "      <th></th>\n",
       "      <th>ZIP_CODE</th>\n",
       "      <th>PO_NAME</th>\n",
       "      <th>STATE</th>\n",
       "      <th>ZIP_TYPE</th>\n",
       "      <th>ZCTA</th>\n",
       "      <th>zip_join_type</th>\n",
       "    </tr>\n",
       "  </thead>\n",
       "  <tbody>\n",
       "    <tr>\n",
       "      <th>0</th>\n",
       "      <td>501</td>\n",
       "      <td>Holtsville</td>\n",
       "      <td>NY</td>\n",
       "      <td>Post Office or large volume customer</td>\n",
       "      <td>11742</td>\n",
       "      <td>Spatial join to ZCTA</td>\n",
       "    </tr>\n",
       "    <tr>\n",
       "      <th>1</th>\n",
       "      <td>544</td>\n",
       "      <td>Holtsville</td>\n",
       "      <td>NY</td>\n",
       "      <td>Post Office or large volume customer</td>\n",
       "      <td>11742</td>\n",
       "      <td>Spatial join to ZCTA</td>\n",
       "    </tr>\n",
       "    <tr>\n",
       "      <th>2</th>\n",
       "      <td>601</td>\n",
       "      <td>Adjuntas</td>\n",
       "      <td>PR</td>\n",
       "      <td>Zip Code Area</td>\n",
       "      <td>00601</td>\n",
       "      <td>Zip Matches ZCTA</td>\n",
       "    </tr>\n",
       "    <tr>\n",
       "      <th>3</th>\n",
       "      <td>602</td>\n",
       "      <td>Aguada</td>\n",
       "      <td>PR</td>\n",
       "      <td>Zip Code Area</td>\n",
       "      <td>00602</td>\n",
       "      <td>Zip Matches ZCTA</td>\n",
       "    </tr>\n",
       "    <tr>\n",
       "      <th>4</th>\n",
       "      <td>603</td>\n",
       "      <td>Aguadilla</td>\n",
       "      <td>PR</td>\n",
       "      <td>Zip Code Area</td>\n",
       "      <td>00603</td>\n",
       "      <td>Zip Matches ZCTA</td>\n",
       "    </tr>\n",
       "    <tr>\n",
       "      <th>5</th>\n",
       "      <td>604</td>\n",
       "      <td>Aguadilla</td>\n",
       "      <td>PR</td>\n",
       "      <td>Post Office or large volume customer</td>\n",
       "      <td>00603</td>\n",
       "      <td>Spatial join to ZCTA</td>\n",
       "    </tr>\n",
       "    <tr>\n",
       "      <th>6</th>\n",
       "      <td>605</td>\n",
       "      <td>Aguadilla</td>\n",
       "      <td>PR</td>\n",
       "      <td>Post Office or large volume customer</td>\n",
       "      <td>00603</td>\n",
       "      <td>Spatial join to ZCTA</td>\n",
       "    </tr>\n",
       "    <tr>\n",
       "      <th>7</th>\n",
       "      <td>606</td>\n",
       "      <td>Maricao</td>\n",
       "      <td>PR</td>\n",
       "      <td>Zip Code Area</td>\n",
       "      <td>00606</td>\n",
       "      <td>Zip Matches ZCTA</td>\n",
       "    </tr>\n",
       "    <tr>\n",
       "      <th>8</th>\n",
       "      <td>610</td>\n",
       "      <td>Anasco</td>\n",
       "      <td>PR</td>\n",
       "      <td>Zip Code Area</td>\n",
       "      <td>00610</td>\n",
       "      <td>Zip Matches ZCTA</td>\n",
       "    </tr>\n",
       "    <tr>\n",
       "      <th>9</th>\n",
       "      <td>611</td>\n",
       "      <td>Angeles</td>\n",
       "      <td>PR</td>\n",
       "      <td>Post Office or large volume customer</td>\n",
       "      <td>00641</td>\n",
       "      <td>Spatial join to ZCTA</td>\n",
       "    </tr>\n",
       "  </tbody>\n",
       "</table>\n",
       "</div>"
      ],
      "text/plain": [
       "  ZIP_CODE     PO_NAME STATE                              ZIP_TYPE   ZCTA  \\\n",
       "0      501  Holtsville    NY  Post Office or large volume customer  11742   \n",
       "1      544  Holtsville    NY  Post Office or large volume customer  11742   \n",
       "2      601    Adjuntas    PR                         Zip Code Area  00601   \n",
       "3      602      Aguada    PR                         Zip Code Area  00602   \n",
       "4      603   Aguadilla    PR                         Zip Code Area  00603   \n",
       "5      604   Aguadilla    PR  Post Office or large volume customer  00603   \n",
       "6      605   Aguadilla    PR  Post Office or large volume customer  00603   \n",
       "7      606     Maricao    PR                         Zip Code Area  00606   \n",
       "8      610      Anasco    PR                         Zip Code Area  00610   \n",
       "9      611     Angeles    PR  Post Office or large volume customer  00641   \n",
       "\n",
       "          zip_join_type  \n",
       "0  Spatial join to ZCTA  \n",
       "1  Spatial join to ZCTA  \n",
       "2      Zip Matches ZCTA  \n",
       "3      Zip Matches ZCTA  \n",
       "4      Zip Matches ZCTA  \n",
       "5  Spatial join to ZCTA  \n",
       "6  Spatial join to ZCTA  \n",
       "7      Zip Matches ZCTA  \n",
       "8      Zip Matches ZCTA  \n",
       "9  Spatial join to ZCTA  "
      ]
     },
     "execution_count": 5,
     "metadata": {},
     "output_type": "execute_result"
    }
   ],
   "source": [
    "# Getting Zip to zcta data. Will use pandas to read .xlsx file first\n",
    "zip_schema = StructType([\n",
    "        StructField('zip_code', StringType()),\n",
    "        StructField('po_name', StringType()),\n",
    "        StructField('state', StringType()),\n",
    "        StructField('zip_type', StringType()),\n",
    "        StructField('zcta', StringType()),\n",
    "        StructField('zip_join_type', StringType())\n",
    "        ])\n",
    "zip_pandas = pd.read_excel('zip_to_zcta_2019.xlsx').astype(str)\n",
    "df_zip = spark.createDataFrame(zip_pandas)\n",
    "df_zip.limit(10).toPandas()"
   ]
  },
  {
   "cell_type": "markdown",
   "metadata": {
    "editable": true
   },
   "source": [
    "### Step 2: Explore and Assess the Data\n",
    "#### Explore the Data \n",
    "To get a grasp of the data, we will look at the shape of each dataset, then look for duplicates and NULLs.\n"
   ]
  },
  {
   "cell_type": "code",
   "execution_count": 6,
   "metadata": {
    "editable": true
   },
   "outputs": [
    {
     "name": "stdout",
     "output_type": "stream",
     "text": [
      "Eviction dataset has 10 columns and 66323 rows\n",
      "Covid dataset has 10 columns and 178 rows\n",
      "Zip Code dataset has 6 columns and 41107 rows\n"
     ]
    }
   ],
   "source": [
    "# Getting shapes\n",
    "print(f'Eviction dataset has {len(df_evict.columns)} columns and {df_evict.count()} rows')\n",
    "print(f'Covid dataset has {len(df_covid.columns)} columns and {df_covid.count()} rows')\n",
    "print(f'Zip Code dataset has {len(df_zip.columns)} columns and {df_zip.count()} rows')"
   ]
  },
  {
   "cell_type": "code",
   "execution_count": 7,
   "metadata": {
    "editable": true
   },
   "outputs": [
    {
     "name": "stdout",
     "output_type": "stream",
     "text": [
      "Eviction dataset has 22 duplicates\n",
      "Covid dataset has 0 duplicates\n",
      "Zip Code dataset has 0 duplicates\n"
     ]
    }
   ],
   "source": [
    "# Counting Duplicates\n",
    "print(f'Eviction dataset has {df_evict.count() - df_evict.dropDuplicates().count()} duplicates')\n",
    "print(f'Covid dataset has {df_covid.count() - df_covid.dropDuplicates().count()} duplicates')\n",
    "print(f'Zip Code dataset has {df_zip.count() - df_zip.dropDuplicates().count()} duplicates')"
   ]
  },
  {
   "cell_type": "code",
   "execution_count": 8,
   "metadata": {
    "editable": true
   },
   "outputs": [
    {
     "name": "stdout",
     "output_type": "stream",
     "text": [
      "Null Count (by column) for the evict dataset\n"
     ]
    },
    {
     "data": {
      "text/html": [
       "<div>\n",
       "<style scoped>\n",
       "    .dataframe tbody tr th:only-of-type {\n",
       "        vertical-align: middle;\n",
       "    }\n",
       "\n",
       "    .dataframe tbody tr th {\n",
       "        vertical-align: top;\n",
       "    }\n",
       "\n",
       "    .dataframe thead th {\n",
       "        text-align: right;\n",
       "    }\n",
       "</style>\n",
       "<table border=\"1\" class=\"dataframe\">\n",
       "  <thead>\n",
       "    <tr style=\"text-align: right;\">\n",
       "      <th></th>\n",
       "      <th>court_index_number</th>\n",
       "      <th>docket_number</th>\n",
       "      <th>eviction_address</th>\n",
       "      <th>eviction_apt_num</th>\n",
       "      <th>executed_date</th>\n",
       "      <th>marshal_first_name</th>\n",
       "      <th>marshal_last_name</th>\n",
       "      <th>residential_commercial_ind</th>\n",
       "      <th>borough</th>\n",
       "      <th>eviction_zip</th>\n",
       "    </tr>\n",
       "  </thead>\n",
       "  <tbody>\n",
       "    <tr>\n",
       "      <th>0</th>\n",
       "      <td>0</td>\n",
       "      <td>0</td>\n",
       "      <td>0</td>\n",
       "      <td>10916</td>\n",
       "      <td>0</td>\n",
       "      <td>0</td>\n",
       "      <td>0</td>\n",
       "      <td>0</td>\n",
       "      <td>0</td>\n",
       "      <td>0</td>\n",
       "    </tr>\n",
       "  </tbody>\n",
       "</table>\n",
       "</div>"
      ],
      "text/plain": [
       "   court_index_number  docket_number  eviction_address  eviction_apt_num  \\\n",
       "0                   0              0                 0             10916   \n",
       "\n",
       "   executed_date  marshal_first_name  marshal_last_name  \\\n",
       "0              0                   0                  0   \n",
       "\n",
       "   residential_commercial_ind  borough  eviction_zip  \n",
       "0                           0        0             0  "
      ]
     },
     "execution_count": 8,
     "metadata": {},
     "output_type": "execute_result"
    }
   ],
   "source": [
    "# Getting null counts\n",
    "evict_null = df_evict.select([F.count(F.when(F.isnull(c), c)).alias(c) for c in df_evict.columns])\n",
    "print('Null Count (by column) for the evict dataset')\n",
    "evict_null.limit(1).toPandas()"
   ]
  },
  {
   "cell_type": "code",
   "execution_count": 9,
   "metadata": {
    "editable": true
   },
   "outputs": [
    {
     "name": "stdout",
     "output_type": "stream",
     "text": [
      "Null Count (by column) for the covid dataset\n"
     ]
    },
    {
     "data": {
      "text/html": [
       "<div>\n",
       "<style scoped>\n",
       "    .dataframe tbody tr th:only-of-type {\n",
       "        vertical-align: middle;\n",
       "    }\n",
       "\n",
       "    .dataframe tbody tr th {\n",
       "        vertical-align: top;\n",
       "    }\n",
       "\n",
       "    .dataframe thead th {\n",
       "        text-align: right;\n",
       "    }\n",
       "</style>\n",
       "<table border=\"1\" class=\"dataframe\">\n",
       "  <thead>\n",
       "    <tr style=\"text-align: right;\">\n",
       "      <th></th>\n",
       "      <th>modified_zcta</th>\n",
       "      <th>neighborhood_name</th>\n",
       "      <th>borough_group</th>\n",
       "      <th>covid_case_count</th>\n",
       "      <th>covid_case_rate</th>\n",
       "      <th>pop_denominator</th>\n",
       "      <th>covid_death_count</th>\n",
       "      <th>covid_death_rate</th>\n",
       "      <th>percent_positive</th>\n",
       "      <th>total_covid_tests</th>\n",
       "    </tr>\n",
       "  </thead>\n",
       "  <tbody>\n",
       "    <tr>\n",
       "      <th>0</th>\n",
       "      <td>1</td>\n",
       "      <td>1</td>\n",
       "      <td>1</td>\n",
       "      <td>1</td>\n",
       "      <td>1</td>\n",
       "      <td>1</td>\n",
       "      <td>1</td>\n",
       "      <td>1</td>\n",
       "      <td>1</td>\n",
       "      <td>1</td>\n",
       "    </tr>\n",
       "  </tbody>\n",
       "</table>\n",
       "</div>"
      ],
      "text/plain": [
       "   modified_zcta  neighborhood_name  borough_group  covid_case_count  \\\n",
       "0              1                  1              1                 1   \n",
       "\n",
       "   covid_case_rate  pop_denominator  covid_death_count  covid_death_rate  \\\n",
       "0                1                1                  1                 1   \n",
       "\n",
       "   percent_positive  total_covid_tests  \n",
       "0                 1                  1  "
      ]
     },
     "execution_count": 9,
     "metadata": {},
     "output_type": "execute_result"
    }
   ],
   "source": [
    "covid_null = df_covid.select([F.count(F.when(F.isnull(c), c)).alias(c) for c in df_covid.columns])\n",
    "print('Null Count (by column) for the covid dataset')\n",
    "covid_null.limit(1).toPandas()"
   ]
  },
  {
   "cell_type": "code",
   "execution_count": 10,
   "metadata": {
    "editable": true
   },
   "outputs": [
    {
     "name": "stdout",
     "output_type": "stream",
     "text": [
      "Null Count (by column) for the zip code dataset\n"
     ]
    },
    {
     "data": {
      "text/html": [
       "<div>\n",
       "<style scoped>\n",
       "    .dataframe tbody tr th:only-of-type {\n",
       "        vertical-align: middle;\n",
       "    }\n",
       "\n",
       "    .dataframe tbody tr th {\n",
       "        vertical-align: top;\n",
       "    }\n",
       "\n",
       "    .dataframe thead th {\n",
       "        text-align: right;\n",
       "    }\n",
       "</style>\n",
       "<table border=\"1\" class=\"dataframe\">\n",
       "  <thead>\n",
       "    <tr style=\"text-align: right;\">\n",
       "      <th></th>\n",
       "      <th>ZIP_CODE</th>\n",
       "      <th>PO_NAME</th>\n",
       "      <th>STATE</th>\n",
       "      <th>ZIP_TYPE</th>\n",
       "      <th>ZCTA</th>\n",
       "      <th>zip_join_type</th>\n",
       "    </tr>\n",
       "  </thead>\n",
       "  <tbody>\n",
       "    <tr>\n",
       "      <th>0</th>\n",
       "      <td>0</td>\n",
       "      <td>0</td>\n",
       "      <td>0</td>\n",
       "      <td>0</td>\n",
       "      <td>0</td>\n",
       "      <td>0</td>\n",
       "    </tr>\n",
       "  </tbody>\n",
       "</table>\n",
       "</div>"
      ],
      "text/plain": [
       "   ZIP_CODE  PO_NAME  STATE  ZIP_TYPE  ZCTA  zip_join_type\n",
       "0         0        0      0         0     0              0"
      ]
     },
     "execution_count": 10,
     "metadata": {},
     "output_type": "execute_result"
    }
   ],
   "source": [
    "zip_null = df_zip.select([F.count(F.when(F.isnull(c), c)).alias(c) for c in df_zip.columns])\n",
    "print('Null Count (by column) for the zip code dataset')\n",
    "zip_null.limit(1).toPandas()"
   ]
  },
  {
   "cell_type": "markdown",
   "metadata": {
    "editable": true
   },
   "source": [
    "### Data cleanliness\n",
    "Only the eviction dataset has duplicates. This totals 22 out of a 66,323, which is not a significant amount and is easily removed. This dataset also has several null values in the `eviction_apt_num` column, which makes sense as not all addresses have apartment numbers.\n",
    "\n",
    "The covid dataset has one row full of nulls, which is seen above in the first row. This is likely from the conversion and is also an east fix.\n",
    "\n",
    "The zip code data has no duplicates or null values."
   ]
  },
  {
   "cell_type": "markdown",
   "metadata": {
    "editable": true
   },
   "source": [
    "#### Cleaning Steps\n",
    "Document steps necessary to clean the data"
   ]
  },
  {
   "cell_type": "code",
   "execution_count": 11,
   "metadata": {
    "editable": true
   },
   "outputs": [
    {
     "name": "stdout",
     "output_type": "stream",
     "text": [
      "Eviction dataset has 66301 rows\n",
      "Covid dataset has 178 rows\n"
     ]
    }
   ],
   "source": [
    "# Removing duplicates and null rows. Will perform a test to make sure only those rows are removed.\n",
    "# This means an evict_df count of 66,323 - 22 (66,301) and a covid count of 178 - 1 (177)\n",
    "df_evict = df_evict.dropDuplicates()\n",
    "df_covid = df_covid.dropDuplicates()\n",
    "\n",
    "print(f'Eviction dataset has {df_evict.count()} rows')\n",
    "print(f'Covid dataset has {df_covid.count()} rows')"
   ]
  },
  {
   "cell_type": "markdown",
   "metadata": {
    "editable": true
   },
   "source": [
    "### Step 3: Define the Data Model\n",
    "#### 3.1 Conceptual Data Model\n",
    "The data model will consist of 3 tables, including a time table we will create in spark from the evictions date column. The model will look as follows:\n"
   ]
  },
  {
   "cell_type": "code",
   "execution_count": 12,
   "metadata": {
    "editable": true
   },
   "outputs": [
    {
     "data": {
      "image/png": "[encoded data removed]",
      "text/plain": [
       "<IPython.core.display.Image object>"
      ]
     },
     "execution_count": 12,
     "metadata": {},
     "output_type": "execute_result"
    }
   ],
   "source": [
    "Image(\"img/ERD.png\")"
   ]
  },
  {
   "cell_type": "markdown",
   "metadata": {
    "editable": true
   },
   "source": [
    "#### 3.2 Mapping Out Data Pipelines\n",
    "To get here, we will need to \n",
    "- Create a `fact_evict` table from eviction data, while adding an evict_key column\n",
    "- Create a `dim_zip` table using data from the zip_code and covid dataset\n",
    "- Create a `dim_time` dataset from the eviction data and use Spark functions to create more date-based columns\n",
    "\n",
    "The `dim_zip` is intentionally denormalized to avoid several smaller tables joined on zip code for queries."
   ]
  },
  {
   "cell_type": "markdown",
   "metadata": {
    "editable": true
   },
   "source": [
    "### Step 4: Run Pipelines to Model the Data \n",
    "#### 4.1 Create the data model\n",
    "Build the data pipelines to create the data model."
   ]
  },
  {
   "cell_type": "code",
   "execution_count": 41,
   "metadata": {
    "editable": true
   },
   "outputs": [
    {
     "data": {
      "text/html": [
       "<div>\n",
       "<style scoped>\n",
       "    .dataframe tbody tr th:only-of-type {\n",
       "        vertical-align: middle;\n",
       "    }\n",
       "\n",
       "    .dataframe tbody tr th {\n",
       "        vertical-align: top;\n",
       "    }\n",
       "\n",
       "    .dataframe thead th {\n",
       "        text-align: right;\n",
       "    }\n",
       "</style>\n",
       "<table border=\"1\" class=\"dataframe\">\n",
       "  <thead>\n",
       "    <tr style=\"text-align: right;\">\n",
       "      <th></th>\n",
       "      <th>evict_key</th>\n",
       "      <th>docket_number</th>\n",
       "      <th>eviction_address</th>\n",
       "      <th>eviction_apt_num</th>\n",
       "      <th>executed_date</th>\n",
       "      <th>property_type</th>\n",
       "      <th>zip_code</th>\n",
       "    </tr>\n",
       "  </thead>\n",
       "  <tbody>\n",
       "    <tr>\n",
       "      <th>0</th>\n",
       "      <td>0</td>\n",
       "      <td>387596</td>\n",
       "      <td>2463 TIEBOUT AVENUE</td>\n",
       "      <td>51</td>\n",
       "      <td>2018-04-17</td>\n",
       "      <td>Residential</td>\n",
       "      <td>10458</td>\n",
       "    </tr>\n",
       "    <tr>\n",
       "      <th>1</th>\n",
       "      <td>1</td>\n",
       "      <td>151693</td>\n",
       "      <td>73 HILL STREET (2ND FLOOR APT.)</td>\n",
       "      <td>None</td>\n",
       "      <td>2017-05-02</td>\n",
       "      <td>Residential</td>\n",
       "      <td>11208</td>\n",
       "    </tr>\n",
       "    <tr>\n",
       "      <th>2</th>\n",
       "      <td>2</td>\n",
       "      <td>345783</td>\n",
       "      <td>1046 COLLEGE AVENUE</td>\n",
       "      <td>2ND FLOOR</td>\n",
       "      <td>2018-09-05</td>\n",
       "      <td>Residential</td>\n",
       "      <td>10456</td>\n",
       "    </tr>\n",
       "    <tr>\n",
       "      <th>3</th>\n",
       "      <td>3</td>\n",
       "      <td>395166</td>\n",
       "      <td>2024 BENEDICT AVENUE</td>\n",
       "      <td>4H</td>\n",
       "      <td>2018-10-30</td>\n",
       "      <td>Residential</td>\n",
       "      <td>10462</td>\n",
       "    </tr>\n",
       "    <tr>\n",
       "      <th>4</th>\n",
       "      <td>4</td>\n",
       "      <td>21382</td>\n",
       "      <td>1470 BUSHWICK AVENUE</td>\n",
       "      <td>3R</td>\n",
       "      <td>2019-02-22</td>\n",
       "      <td>Residential</td>\n",
       "      <td>11207</td>\n",
       "    </tr>\n",
       "    <tr>\n",
       "      <th>5</th>\n",
       "      <td>5</td>\n",
       "      <td>055485</td>\n",
       "      <td>505 W 162ND ST  A/K/ A 1045 ST. NICHOLAS</td>\n",
       "      <td>STORE #3</td>\n",
       "      <td>2017-03-02</td>\n",
       "      <td>Commercial</td>\n",
       "      <td>10032</td>\n",
       "    </tr>\n",
       "    <tr>\n",
       "      <th>6</th>\n",
       "      <td>6</td>\n",
       "      <td>018981</td>\n",
       "      <td>608 FLATBUSH AVE IN THE CELLAR-B3</td>\n",
       "      <td>None</td>\n",
       "      <td>2019-10-21</td>\n",
       "      <td>Residential</td>\n",
       "      <td>11225</td>\n",
       "    </tr>\n",
       "    <tr>\n",
       "      <th>7</th>\n",
       "      <td>7</td>\n",
       "      <td>075981</td>\n",
       "      <td>11 RICHARD LANE   FRONT RIGHT ENT.</td>\n",
       "      <td>None</td>\n",
       "      <td>2017-06-22</td>\n",
       "      <td>Residential</td>\n",
       "      <td>10314</td>\n",
       "    </tr>\n",
       "    <tr>\n",
       "      <th>8</th>\n",
       "      <td>8</td>\n",
       "      <td>072206</td>\n",
       "      <td>275 KOSCIUSZKO ST</td>\n",
       "      <td>4J</td>\n",
       "      <td>2017-12-08</td>\n",
       "      <td>Residential</td>\n",
       "      <td>11221</td>\n",
       "    </tr>\n",
       "    <tr>\n",
       "      <th>9</th>\n",
       "      <td>9</td>\n",
       "      <td>360267</td>\n",
       "      <td>1458 WEBSTER AVENUE</td>\n",
       "      <td>06E</td>\n",
       "      <td>2017-11-01</td>\n",
       "      <td>Residential</td>\n",
       "      <td>10456</td>\n",
       "    </tr>\n",
       "  </tbody>\n",
       "</table>\n",
       "</div>"
      ],
      "text/plain": [
       "   evict_key docket_number                          eviction_address  \\\n",
       "0          0        387596                       2463 TIEBOUT AVENUE   \n",
       "1          1        151693           73 HILL STREET (2ND FLOOR APT.)   \n",
       "2          2        345783                       1046 COLLEGE AVENUE   \n",
       "3          3        395166                      2024 BENEDICT AVENUE   \n",
       "4          4         21382                      1470 BUSHWICK AVENUE   \n",
       "5          5        055485  505 W 162ND ST  A/K/ A 1045 ST. NICHOLAS   \n",
       "6          6        018981         608 FLATBUSH AVE IN THE CELLAR-B3   \n",
       "7          7        075981        11 RICHARD LANE   FRONT RIGHT ENT.   \n",
       "8          8        072206                         275 KOSCIUSZKO ST   \n",
       "9          9        360267                       1458 WEBSTER AVENUE   \n",
       "\n",
       "  eviction_apt_num executed_date property_type zip_code  \n",
       "0               51    2018-04-17   Residential    10458  \n",
       "1             None    2017-05-02   Residential    11208  \n",
       "2        2ND FLOOR    2018-09-05   Residential    10456  \n",
       "3               4H    2018-10-30   Residential    10462  \n",
       "4               3R    2019-02-22   Residential    11207  \n",
       "5         STORE #3    2017-03-02    Commercial    10032  \n",
       "6             None    2019-10-21   Residential    11225  \n",
       "7             None    2017-06-22   Residential    10314  \n",
       "8               4J    2017-12-08   Residential    11221  \n",
       "9              06E    2017-11-01   Residential    10456  "
      ]
     },
     "execution_count": 41,
     "metadata": {},
     "output_type": "execute_result"
    }
   ],
   "source": [
    "# Creating fact_evict table\n",
    "\n",
    "#creating a key column by concatenating a random integer and the date column\n",
    "#df_evict_wkey = df_evict.withColumn('date_string', df_evict.executed_date.cast('string'))\n",
    "#df_evict_wkey = df_evict_wkey.withColumn('date_key', F.regexp_replace(df_evict_wkey.date_string, '-',''))\n",
    "#random_udf = F.udf(lambda: random.randint(1000, 9999), IntegerType())\n",
    "#df_evict_wkey = df_evict_wkey.withColumn('evict_key', F.concat(random_udf(), df_evict_wkey.date_key))\n",
    "df_evict_wkey = df_evict.withColumn('evict_key', F.monotonically_increasing_id())\n",
    "\n",
    "# Final table\n",
    "fact_evict = df_evict_wkey.select(df_evict_wkey.evict_key, df_evict_wkey.docket_number,\n",
    "                                  df_evict_wkey.eviction_address, df_evict_wkey.eviction_apt_num,\n",
    "                                  df_evict_wkey.executed_date, df_evict_wkey.residential_commercial_ind.alias('property_type'),\n",
    "                                  df_evict_wkey.eviction_zip.alias('zip_code'))\n",
    "fact_evict.limit(10).toPandas()"
   ]
  },
  {
   "cell_type": "code",
   "execution_count": 14,
   "metadata": {
    "editable": true
   },
   "outputs": [
    {
     "data": {
      "text/html": [
       "<div>\n",
       "<style scoped>\n",
       "    .dataframe tbody tr th:only-of-type {\n",
       "        vertical-align: middle;\n",
       "    }\n",
       "\n",
       "    .dataframe tbody tr th {\n",
       "        vertical-align: top;\n",
       "    }\n",
       "\n",
       "    .dataframe thead th {\n",
       "        text-align: right;\n",
       "    }\n",
       "</style>\n",
       "<table border=\"1\" class=\"dataframe\">\n",
       "  <thead>\n",
       "    <tr style=\"text-align: right;\">\n",
       "      <th></th>\n",
       "      <th>zip_code</th>\n",
       "      <th>po_name</th>\n",
       "      <th>state</th>\n",
       "      <th>neighborhood</th>\n",
       "      <th>borough</th>\n",
       "    </tr>\n",
       "  </thead>\n",
       "  <tbody>\n",
       "    <tr>\n",
       "      <th>0</th>\n",
       "      <td>10026</td>\n",
       "      <td>New York</td>\n",
       "      <td>NY</td>\n",
       "      <td>Central Harlem (South)</td>\n",
       "      <td>Manhattan</td>\n",
       "    </tr>\n",
       "    <tr>\n",
       "      <th>1</th>\n",
       "      <td>10126</td>\n",
       "      <td>New York</td>\n",
       "      <td>NY</td>\n",
       "      <td>East Midtown</td>\n",
       "      <td>Manhattan</td>\n",
       "    </tr>\n",
       "    <tr>\n",
       "      <th>2</th>\n",
       "      <td>11208</td>\n",
       "      <td>Brooklyn</td>\n",
       "      <td>NY</td>\n",
       "      <td>Cypress Hills/East New York</td>\n",
       "      <td>Brooklyn</td>\n",
       "    </tr>\n",
       "    <tr>\n",
       "      <th>3</th>\n",
       "      <td>11426</td>\n",
       "      <td>Bellerose</td>\n",
       "      <td>NY</td>\n",
       "      <td>Bellerose</td>\n",
       "      <td>Queens</td>\n",
       "    </tr>\n",
       "    <tr>\n",
       "      <th>4</th>\n",
       "      <td>10164</td>\n",
       "      <td>New York</td>\n",
       "      <td>NY</td>\n",
       "      <td>East Midtown/Murray Hill</td>\n",
       "      <td>Manhattan</td>\n",
       "    </tr>\n",
       "    <tr>\n",
       "      <th>5</th>\n",
       "      <td>10129</td>\n",
       "      <td>New York</td>\n",
       "      <td>NY</td>\n",
       "      <td>Hell's Kitchen/Midtown Manhattan</td>\n",
       "      <td>Manhattan</td>\n",
       "    </tr>\n",
       "    <tr>\n",
       "      <th>6</th>\n",
       "      <td>11423</td>\n",
       "      <td>Hollis</td>\n",
       "      <td>NY</td>\n",
       "      <td>Hollis/Holliswood</td>\n",
       "      <td>Queens</td>\n",
       "    </tr>\n",
       "    <tr>\n",
       "      <th>7</th>\n",
       "      <td>10308</td>\n",
       "      <td>Staten Island</td>\n",
       "      <td>NY</td>\n",
       "      <td>Great Kills</td>\n",
       "      <td>Staten Island</td>\n",
       "    </tr>\n",
       "    <tr>\n",
       "      <th>8</th>\n",
       "      <td>10314</td>\n",
       "      <td>Staten Island</td>\n",
       "      <td>NY</td>\n",
       "      <td>Bloomfield/Freshkills Park</td>\n",
       "      <td>Staten Island</td>\n",
       "    </tr>\n",
       "    <tr>\n",
       "      <th>9</th>\n",
       "      <td>10472</td>\n",
       "      <td>Bronx</td>\n",
       "      <td>NY</td>\n",
       "      <td>Soundview</td>\n",
       "      <td>Bronx</td>\n",
       "    </tr>\n",
       "  </tbody>\n",
       "</table>\n",
       "</div>"
      ],
      "text/plain": [
       "  zip_code        po_name state                      neighborhood  \\\n",
       "0    10026       New York    NY            Central Harlem (South)   \n",
       "1    10126       New York    NY                      East Midtown   \n",
       "2    11208       Brooklyn    NY       Cypress Hills/East New York   \n",
       "3    11426      Bellerose    NY                         Bellerose   \n",
       "4    10164       New York    NY          East Midtown/Murray Hill   \n",
       "5    10129       New York    NY  Hell's Kitchen/Midtown Manhattan   \n",
       "6    11423         Hollis    NY                 Hollis/Holliswood   \n",
       "7    10308  Staten Island    NY                       Great Kills   \n",
       "8    10314  Staten Island    NY        Bloomfield/Freshkills Park   \n",
       "9    10472          Bronx    NY                         Soundview   \n",
       "\n",
       "         borough  \n",
       "0      Manhattan  \n",
       "1      Manhattan  \n",
       "2       Brooklyn  \n",
       "3         Queens  \n",
       "4      Manhattan  \n",
       "5      Manhattan  \n",
       "6         Queens  \n",
       "7  Staten Island  \n",
       "8  Staten Island  \n",
       "9          Bronx  "
      ]
     },
     "execution_count": 14,
     "metadata": {},
     "output_type": "execute_result"
    }
   ],
   "source": [
    "# Creating dim_zip table\n",
    "zip_small = df_zip.select('zip_code', 'po_name', 'state', 'zcta')\n",
    "covid_neigh = df_covid.select('modified_zcta', 'neighborhood_name', 'borough_group')\n",
    "dim_zip = covid_neigh.join(zip_small, zip_small.zcta == covid_neigh.modified_zcta)\n",
    "dim_zip = dim_zip.select(dim_zip.zip_code, dim_zip.po_name, dim_zip.state,\n",
    "                         dim_zip.neighborhood_name.alias('neighborhood'), dim_zip.borough_group.alias('borough')).distinct()\n",
    "dim_zip.limit(10).toPandas()"
   ]
  },
  {
   "cell_type": "code",
   "execution_count": 42,
   "metadata": {
    "editable": true
   },
   "outputs": [
    {
     "data": {
      "text/html": [
       "<div>\n",
       "<style scoped>\n",
       "    .dataframe tbody tr th:only-of-type {\n",
       "        vertical-align: middle;\n",
       "    }\n",
       "\n",
       "    .dataframe tbody tr th {\n",
       "        vertical-align: top;\n",
       "    }\n",
       "\n",
       "    .dataframe thead th {\n",
       "        text-align: right;\n",
       "    }\n",
       "</style>\n",
       "<table border=\"1\" class=\"dataframe\">\n",
       "  <thead>\n",
       "    <tr style=\"text-align: right;\">\n",
       "      <th></th>\n",
       "      <th>date</th>\n",
       "      <th>day</th>\n",
       "      <th>week</th>\n",
       "      <th>month</th>\n",
       "      <th>year</th>\n",
       "      <th>weekday</th>\n",
       "    </tr>\n",
       "  </thead>\n",
       "  <tbody>\n",
       "    <tr>\n",
       "      <th>0</th>\n",
       "      <td>2017-09-11</td>\n",
       "      <td>11</td>\n",
       "      <td>37</td>\n",
       "      <td>9</td>\n",
       "      <td>2017</td>\n",
       "      <td>2</td>\n",
       "    </tr>\n",
       "    <tr>\n",
       "      <th>1</th>\n",
       "      <td>2017-08-11</td>\n",
       "      <td>11</td>\n",
       "      <td>32</td>\n",
       "      <td>8</td>\n",
       "      <td>2017</td>\n",
       "      <td>6</td>\n",
       "    </tr>\n",
       "    <tr>\n",
       "      <th>2</th>\n",
       "      <td>2018-08-10</td>\n",
       "      <td>10</td>\n",
       "      <td>32</td>\n",
       "      <td>8</td>\n",
       "      <td>2018</td>\n",
       "      <td>6</td>\n",
       "    </tr>\n",
       "    <tr>\n",
       "      <th>3</th>\n",
       "      <td>2019-06-04</td>\n",
       "      <td>4</td>\n",
       "      <td>23</td>\n",
       "      <td>6</td>\n",
       "      <td>2019</td>\n",
       "      <td>3</td>\n",
       "    </tr>\n",
       "    <tr>\n",
       "      <th>4</th>\n",
       "      <td>2019-05-08</td>\n",
       "      <td>8</td>\n",
       "      <td>19</td>\n",
       "      <td>5</td>\n",
       "      <td>2019</td>\n",
       "      <td>4</td>\n",
       "    </tr>\n",
       "    <tr>\n",
       "      <th>5</th>\n",
       "      <td>2018-06-06</td>\n",
       "      <td>6</td>\n",
       "      <td>23</td>\n",
       "      <td>6</td>\n",
       "      <td>2018</td>\n",
       "      <td>4</td>\n",
       "    </tr>\n",
       "    <tr>\n",
       "      <th>6</th>\n",
       "      <td>2020-01-21</td>\n",
       "      <td>21</td>\n",
       "      <td>4</td>\n",
       "      <td>1</td>\n",
       "      <td>2020</td>\n",
       "      <td>3</td>\n",
       "    </tr>\n",
       "    <tr>\n",
       "      <th>7</th>\n",
       "      <td>2019-11-18</td>\n",
       "      <td>18</td>\n",
       "      <td>47</td>\n",
       "      <td>11</td>\n",
       "      <td>2019</td>\n",
       "      <td>2</td>\n",
       "    </tr>\n",
       "    <tr>\n",
       "      <th>8</th>\n",
       "      <td>2017-01-06</td>\n",
       "      <td>6</td>\n",
       "      <td>1</td>\n",
       "      <td>1</td>\n",
       "      <td>2017</td>\n",
       "      <td>6</td>\n",
       "    </tr>\n",
       "    <tr>\n",
       "      <th>9</th>\n",
       "      <td>2019-11-01</td>\n",
       "      <td>1</td>\n",
       "      <td>44</td>\n",
       "      <td>11</td>\n",
       "      <td>2019</td>\n",
       "      <td>6</td>\n",
       "    </tr>\n",
       "  </tbody>\n",
       "</table>\n",
       "</div>"
      ],
      "text/plain": [
       "         date  day  week  month  year  weekday\n",
       "0  2017-09-11   11    37      9  2017        2\n",
       "1  2017-08-11   11    32      8  2017        6\n",
       "2  2018-08-10   10    32      8  2018        6\n",
       "3  2019-06-04    4    23      6  2019        3\n",
       "4  2019-05-08    8    19      5  2019        4\n",
       "5  2018-06-06    6    23      6  2018        4\n",
       "6  2020-01-21   21     4      1  2020        3\n",
       "7  2019-11-18   18    47     11  2019        2\n",
       "8  2017-01-06    6     1      1  2017        6\n",
       "9  2019-11-01    1    44     11  2019        6"
      ]
     },
     "execution_count": 42,
     "metadata": {},
     "output_type": "execute_result"
    }
   ],
   "source": [
    "# Creating the dim_time table\n",
    "date_column = fact_evict.select(fact_evict.executed_date.alias('date')).distinct()\n",
    "dim_time = date_column.withColumn('day', F.dayofmonth(date_column.date)) \\\n",
    "                      .withColumn('week', F.weekofyear(date_column.date)) \\\n",
    "                      .withColumn('month', F.month(date_column.date)) \\\n",
    "                      .withColumn('year', F.year(date_column.date)) \\\n",
    "                      .withColumn('weekday', F.dayofweek(date_column.date))\n",
    "dim_time.limit(10).toPandas()"
   ]
  },
  {
   "cell_type": "markdown",
   "metadata": {
    "editable": true
   },
   "source": [
    "#### 4.2 Data Quality Checks\n",
    "We will make row counts to ensure no data was lost. The following should match:\n",
    "- `fact_evict` should match the number from the evictions table, with duplicates dropped\n",
    "- `dim_time` should match the number of unique executed_date columns from the `fact_evict` table\n",
    "\n",
    "We will also check if distinct keys match number of records\n",
    "\n",
    "`dim_zip` will not have a number of records we can check, since multiple zip codes can/will match to a zcta. "
   ]
  },
  {
   "cell_type": "code",
   "execution_count": 43,
   "metadata": {
    "editable": true
   },
   "outputs": [
    {
     "name": "stdout",
     "output_type": "stream",
     "text": [
      "fact_evict records should be 66301 and it totals 66301\n",
      "dim_time records should be 782 and it totals 782\n"
     ]
    }
   ],
   "source": [
    "# Perform quality checks here\n",
    "print(f'fact_evict records should be {df_evict.count()} and it totals {fact_evict.count()}')\n",
    "print(f'dim_time records should be {df_evict.select(\"executed_date\").distinct().count()} and it totals {dim_time.count()}')"
   ]
  },
  {
   "cell_type": "code",
   "execution_count": null,
   "metadata": {
    "editable": true
   },
   "outputs": [
    {
     "name": "stdout",
     "output_type": "stream",
     "text": [
      "fact_evict PKs should be 66301 and it totals 66301\n",
      "dim_zip records should be 263 and it totals 263\n"
     ]
    }
   ],
   "source": [
    "# Primary key checks\n",
    "print(f'fact_evict PKs should be {fact_evict.count()} and it totals {fact_evict.select(\"evict_key\").distinct().count()}')\n",
    "print(f'dim_zip records should be {dim_zip.count()} and it totals {dim_zip.select(\"zip_code\").distinct().count()}')\n",
    "print(f'dim_time records should be {dim_time.count()} and it totals {dim_time.select(\"date\").distinct().count()}')"
   ]
  },
  {
   "cell_type": "markdown",
   "metadata": {
    "editable": true
   },
   "source": [
    "#### 4.3 Data dictionary \n",
    "\n",
    "#### **fact_evict**\n",
    "- **evict_key** Primary key made from the docket_number and date string\n",
    "- **court_index_number** Number assigned by the court that has jurisdiction over the landlord/tenant proceedings\n",
    "- **eviction_address** Identifies the street and building number where an eviction is pending or has been completed\n",
    "- **eviction_apt_num** Identifies the unit within the building where an eviction is pending or has been completed\n",
    "- **executed_date** The date that evictions have been executed\n",
    "- **property_type** Identifies the property type where the eviction is pending or has been completed\n",
    "- **zip_code** Identifies the NYC zip code where the eviction is pending or has been completed\n",
    "\n",
    "#### **dim_zip**\n",
    "- **zip_code** Primary Key, identifies the NYC zip code where the eviction is pending or has been completed\n",
    "- **po_name** Post office name\n",
    "- **state** State name\n",
    "- **neighborhood** NYC neighborhood name\n",
    "- **borough** NYC borough\n",
    "\n",
    "#### **dim_time**\n",
    "- **date** Primary Key, date (no time)\n",
    "- **day** Integer day of month\n",
    "- **week** Integer week of year\n",
    "- **month** Integer month of year\n",
    "- **year** Integer year\n",
    "- **weekday** Integer day of the week\n"
   ]
  },
  {
   "cell_type": "markdown",
   "metadata": {
    "editable": true
   },
   "source": [
    "#### Step 5: Complete Project Write Up\n",
    "* Clearly state the rationale for the choice of tools and technologies for the project.\n",
    "* Propose how often the data should be updated and why.\n",
    "* Write a description of how you would approach the problem differently under the following scenarios:\n",
    " * The data was increased by 100x.\n",
    " * The data populates a dashboard that must be updated on a daily basis by 7am every day.\n",
    " * The database needed to be accessed by 100+ people."
   ]
  },
  {
   "cell_type": "markdown",
   "metadata": {
    "editable": true
   },
   "source": [
    "### Project Rationale\n",
    "I decided to use Spark in case there were a large number of records and the project would be able to scale easily. But also, I wanted to get more practice with it. "
   ]
  },
  {
   "cell_type": "markdown",
   "metadata": {
    "editable": true
   },
   "source": [
    "### Data Update\n",
    "Normally I would propose that the data be updated every month. There is not so much data that it would be hard for the dataset to get appended. However, due to covid, evictions are not happening in the city, so I would wait some time as there is no new data being produced."
   ]
  },
  {
   "cell_type": "markdown",
   "metadata": {
    "editable": true
   },
   "source": [
    "### If data were increased by 100x\n",
    "I think spark is well equipped to handle this larger dataset. However, I would look more at how the data is skewed, as something that large has a high chance of any skew causing it to slow down and run inefficiently. In addition, I would look into additional resources, like more clusters, to help with the workload."
   ]
  },
  {
   "cell_type": "markdown",
   "metadata": {
    "editable": true
   },
   "source": [
    "### Data needs to be accessed by 100+ people\n",
    "If its for analytical purposes, I would look into a large Redshift cluster that can scale to that kind of requests and CPU resources. However, if for more transactional requests, I would look into a denormalized NoSQL solution. This would be quicker for queries and require less resources. If its both, I would look into creating data marts."
   ]
  },
  {
   "cell_type": "code",
   "execution_count": null,
   "metadata": {
    "editable": true
   },
   "outputs": [],
   "source": []
  },
  {
   "cell_type": "code",
   "execution_count": null,
   "metadata": {
    "editable": true
   },
   "outputs": [],
   "source": []
  }
 ],
 "metadata": {
  "kernelspec": {
   "display_name": "Python 3",
   "language": "python",
   "name": "python3"
  },
  "language_info": {
   "codemirror_mode": {
    "name": "ipython",
    "version": 3
   },
   "file_extension": ".py",
   "mimetype": "text/x-python",
   "name": "python",
   "nbconvert_exporter": "python",
   "pygments_lexer": "ipython3",
   "version": "3.6.3"
  }
 },
 "nbformat": 4,
 "nbformat_minor": 4
}